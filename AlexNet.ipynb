{
  "cells": [
    {
      "cell_type": "code",
      "source": [
        "import tensorflow as tf\n",
        "from tensorflow import keras\n",
        "from keras.layers import *\n",
        "from keras import Model\n",
        "\n",
        "'''\n",
        "Dumb implementation, not even in keras.applications\n",
        "Alex Net primarily introduced Local Response Normalization(Hebbian prin.)\n",
        "and popularized ReLU(and dropout, although dropout(ILya, Geoffery) was a seperate paper)\n",
        "all values used for LRN are from the paper directly\n",
        "'''"
      ],
      "metadata": {
        "id": "UyWJECEjY72j"
      },
      "execution_count": null,
      "outputs": []
    },
    {
      "cell_type": "code",
      "source": [
        "input = Input(shape=(224, 224, 3))\n",
        "\n",
        "#Eight layers -> 5 conv ---- Last three are clustered and then LRN\n",
        "#                         -- Pooling layers/LRN are the same(could use a single definition)\n",
        "\n",
        "x = Conv2D(filters=96,\n",
        "           kernel_size=11,\n",
        "           strides=4,  padding='same', activation='relu')(input)\n",
        "x = tf.nn.local_response_normalization(input=x, depth_radius=2, alpha=10 ** -4,\n",
        "                                                     beta=0.75,)\n",
        "x = MaxPool2D(pool_size=3, strides=2)(x)\n",
        "\n",
        "x = Conv2D(filters=256,\n",
        "           kernel_size=5, padding='same', activation='relu')(x)\n",
        "\n",
        "x = tf.nn.local_response_normalization(input=x, depth_radius=2, alpha=10 ** -4,\n",
        "                                                     beta=0.75,)\n",
        "x = MaxPool2D(pool_size=3, strides=2)(x)\n",
        "\n",
        "x = Conv2D(filters=384, kernel_size=3, padding='same',\n",
        "           activation='relu')(x)\n",
        "\n",
        "x = Conv2D(filters=384,\n",
        "           kernel_size=3,\n",
        "           padding='same',\n",
        "           activation='relu')(x)\n",
        "x = Conv2D(filters=256,\n",
        "           kernel_size=3,\n",
        "           padding='same',\n",
        "           activation='relu')(x)\n",
        "x = tf.nn.local_response_normalization(input=x,\n",
        "                                       depth_radius=2, alpha=10 ** -4,\n",
        "                                                     beta=0.75,)\n",
        "x = MaxPool2D(pool_size=3, strides=2)(x)\n",
        "\n",
        "x = Flatten()(x)\n",
        "x = Dense(units=4096, activation='relu')(x)\n",
        "x = Dense(units=4096, activation='relu')(x)\n",
        "x = Dropout(rate=0.5)(x)\n",
        "\n",
        "output = Dense(units=1000, activation='softmax')(x)\n",
        "\n",
        "model = Model(inputs=input, outputs=output)"
      ],
      "metadata": {
        "id": "m6iiSEIUZClI"
      },
      "execution_count": null,
      "outputs": []
    },
    {
      "cell_type": "code",
      "source": [
        "model.summary()"
      ],
      "metadata": {
        "id": "0EtFq50VZyOC",
        "outputId": "670b8518-11a5-4f44-fe42-da63d9531dc0",
        "colab": {
          "base_uri": "https://localhost:8080/"
        }
      },
      "execution_count": null,
      "outputs": [
        {
          "output_type": "stream",
          "name": "stdout",
          "text": [
            "Model: \"model_7\"\n",
            "_________________________________________________________________\n",
            " Layer (type)                Output Shape              Param #   \n",
            "=================================================================\n",
            " input_10 (InputLayer)       [(None, 224, 224, 3)]     0         \n",
            "                                                                 \n",
            " conv2d_256 (Conv2D)         (None, 56, 56, 96)        34944     \n",
            "                                                                 \n",
            " tf.nn.local_response_norma  (None, 56, 56, 96)        0         \n",
            " lization_2 (TFOpLambda)                                         \n",
            "                                                                 \n",
            " max_pooling2d_60 (MaxPooli  (None, 27, 27, 96)        0         \n",
            " ng2D)                                                           \n",
            "                                                                 \n",
            " conv2d_257 (Conv2D)         (None, 27, 27, 256)       614656    \n",
            "                                                                 \n",
            " tf.nn.local_response_norma  (None, 27, 27, 256)       0         \n",
            " lization_3 (TFOpLambda)                                         \n",
            "                                                                 \n",
            " max_pooling2d_61 (MaxPooli  (None, 13, 13, 256)       0         \n",
            " ng2D)                                                           \n",
            "                                                                 \n",
            " conv2d_258 (Conv2D)         (None, 13, 13, 384)       885120    \n",
            "                                                                 \n",
            " conv2d_259 (Conv2D)         (None, 13, 13, 384)       1327488   \n",
            "                                                                 \n",
            " conv2d_260 (Conv2D)         (None, 13, 13, 256)       884992    \n",
            "                                                                 \n",
            " tf.nn.local_response_norma  (None, 13, 13, 256)       0         \n",
            " lization_4 (TFOpLambda)                                         \n",
            "                                                                 \n",
            " max_pooling2d_62 (MaxPooli  (None, 6, 6, 256)         0         \n",
            " ng2D)                                                           \n",
            "                                                                 \n",
            " flatten_6 (Flatten)         (None, 9216)              0         \n",
            "                                                                 \n",
            " dense_10 (Dense)            (None, 4096)              37752832  \n",
            "                                                                 \n",
            " dense_11 (Dense)            (None, 4096)              16781312  \n",
            "                                                                 \n",
            " dropout_6 (Dropout)         (None, 4096)              0         \n",
            "                                                                 \n",
            " dense_12 (Dense)            (None, 1000)              4097000   \n",
            "                                                                 \n",
            "=================================================================\n",
            "Total params: 62378344 (237.95 MB)\n",
            "Trainable params: 62378344 (237.95 MB)\n",
            "Non-trainable params: 0 (0.00 Byte)\n",
            "_________________________________________________________________\n"
          ]
        }
      ]
    }
  ],
  "metadata": {
    "colab": {
      "provenance": []
    },
    "kernelspec": {
      "display_name": "Python 3",
      "name": "python3"
    }
  },
  "nbformat": 4,
  "nbformat_minor": 0
}